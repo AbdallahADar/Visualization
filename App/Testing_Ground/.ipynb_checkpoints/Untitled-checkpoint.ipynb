{
 "cells": [
  {
   "cell_type": "code",
   "execution_count": 1,
   "id": "6cc3ae0b-7e6e-4ac8-9fb6-e1305a7c76c8",
   "metadata": {},
   "outputs": [],
   "source": [
    "import numpy as np\n",
    "import pandas as pd\n",
    "import matplotlib.pyplot as plt\n",
    "import plotly.express as px\n",
    "import plotly.graph_objects as go\n",
    "import json\n",
    "import Functions\n",
    "import us\n",
    "\n",
    "from dash import Dash, html, dcc, Input, Output, callback"
   ]
  },
  {
   "cell_type": "code",
   "execution_count": 2,
   "id": "08085485-37b0-4f32-bcba-1e2cef222480",
   "metadata": {},
   "outputs": [
    {
     "data": {
      "text/html": [
       "\n",
       "        <iframe\n",
       "            width=\"100%\"\n",
       "            height=\"650\"\n",
       "            src=\"http://127.0.0.1:8050/\"\n",
       "            frameborder=\"0\"\n",
       "            allowfullscreen\n",
       "            \n",
       "        ></iframe>\n",
       "        "
      ],
      "text/plain": [
       "<IPython.lib.display.IFrame at 0x7faa5e507040>"
      ]
     },
     "metadata": {},
     "output_type": "display_data"
    }
   ],
   "source": [
    "external_stylesheets = ['https://codepen.io/chriddyp/pen/bWLwgP.css']\n",
    "\n",
    "app = Dash(__name__, external_stylesheets=external_stylesheets)\n",
    "\n",
    "## Global Figure\n",
    "fig = Functions.plot_global_country()\n",
    "\n",
    "fig.update_layout(clickmode='event+select')\n",
    "\n",
    "og_fig = fig\n",
    "\n",
    "app.layout = html.Div([\n",
    "    html.Div([\n",
    "        dcc.Graph(\n",
    "            id='map',\n",
    "            figure=fig\n",
    "        )\n",
    "    ], style={'width': '49%', 'display': 'inline-block', 'padding': '0 20'}),\n",
    "])\n",
    "\n",
    "@callback(\n",
    "    Output('map', 'figure'),\n",
    "    [Input('map', 'clickData'),\n",
    "    Input('map', 'figure')])\n",
    "def clickData_Change(clickData, figure):\n",
    "\n",
    "    print(\"Triggered\")\n",
    "    \n",
    "    if clickData is not None:\n",
    "        print(clickData[\"points\"][0][\"hovertext\"])\n",
    "        val = clickData[\"points\"][0][\"hovertext\"]\n",
    "\n",
    "        if val in Functions.nuts_countries:\n",
    "\n",
    "            print(\"This\")\n",
    "\n",
    "            fig = Functions.plot_nuts_country(val, 1)\n",
    "\n",
    "            return fig\n",
    "\n",
    "        else:\n",
    "            fig = go.Figure(figure)\n",
    "\n",
    "            return fig\n",
    "\n",
    "    else:\n",
    "        fig = go.Figure(figure)\n",
    "\n",
    "        return fig\n",
    "\n",
    "if __name__ == '__main__':\n",
    "    app.run(debug=True)"
   ]
  },
  {
   "cell_type": "code",
   "execution_count": 7,
   "id": "7e9cd31a-d464-4809-a936-737aa4723f04",
   "metadata": {},
   "outputs": [
    {
     "data": {
      "text/plain": [
       "['AL',\n",
       " 'AT',\n",
       " 'BE',\n",
       " 'BG',\n",
       " 'CH',\n",
       " 'CY',\n",
       " 'CZ',\n",
       " 'DE',\n",
       " 'DK',\n",
       " 'ES',\n",
       " 'EE',\n",
       " 'FI',\n",
       " 'FR',\n",
       " 'HR',\n",
       " 'HU',\n",
       " 'IE',\n",
       " 'IS',\n",
       " 'IT',\n",
       " 'LI',\n",
       " 'LT',\n",
       " 'LU',\n",
       " 'LV',\n",
       " 'MK',\n",
       " 'MT',\n",
       " 'ME',\n",
       " 'NL',\n",
       " 'NO',\n",
       " 'PL',\n",
       " 'PT',\n",
       " 'RO',\n",
       " 'RS',\n",
       " 'SK',\n",
       " 'SI',\n",
       " 'SE',\n",
       " 'TR',\n",
       " 'ALB',\n",
       " 'AUT',\n",
       " 'BEL',\n",
       " 'BGR',\n",
       " 'CHE',\n",
       " 'CYP',\n",
       " 'CZE',\n",
       " 'DEU',\n",
       " 'DNK',\n",
       " 'ESP',\n",
       " 'EST',\n",
       " 'FIN',\n",
       " 'FRA',\n",
       " 'HRV',\n",
       " 'HUN',\n",
       " 'IRL',\n",
       " 'ISL',\n",
       " 'ITA',\n",
       " 'LIE',\n",
       " 'LTU',\n",
       " 'LUX',\n",
       " 'LVA',\n",
       " 'MKD',\n",
       " 'MLT',\n",
       " 'MNE',\n",
       " 'NLD',\n",
       " 'NOR',\n",
       " 'POL',\n",
       " 'PRT',\n",
       " 'ROU',\n",
       " 'SRB',\n",
       " 'SVK',\n",
       " 'SVN',\n",
       " 'SWE',\n",
       " 'TUR']"
      ]
     },
     "execution_count": 7,
     "metadata": {},
     "output_type": "execute_result"
    }
   ],
   "source": [
    "Functions.nuts_countries"
   ]
  },
  {
   "cell_type": "code",
   "execution_count": null,
   "id": "74f65cc9-4397-4f18-b1b3-eb49641277e0",
   "metadata": {},
   "outputs": [],
   "source": [
    "plot_nuts_country(country_name, geojson)"
   ]
  },
  {
   "cell_type": "code",
   "execution_count": null,
   "id": "46448e88-82a1-4b53-a484-5a740fecd8cb",
   "metadata": {},
   "outputs": [],
   "source": [
    "# Country names and color\n",
    "flag_colors = json.load(open(\"country_colors.json\"))"
   ]
  }
 ],
 "metadata": {
  "kernelspec": {
   "display_name": "Python 3 (ipykernel)",
   "language": "python",
   "name": "python3"
  },
  "language_info": {
   "codemirror_mode": {
    "name": "ipython",
    "version": 3
   },
   "file_extension": ".py",
   "mimetype": "text/x-python",
   "name": "python",
   "nbconvert_exporter": "python",
   "pygments_lexer": "ipython3",
   "version": "3.9.7"
  }
 },
 "nbformat": 4,
 "nbformat_minor": 5
}
